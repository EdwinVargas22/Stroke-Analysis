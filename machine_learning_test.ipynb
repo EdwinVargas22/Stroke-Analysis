{
 "cells": [
  {
   "cell_type": "markdown",
   "id": "insured-spokesman",
   "metadata": {},
   "source": [
    "# We will build a machine learning model using SciKit Learn  to predict whether  an individual will have a stroke. "
   ]
  },
  {
   "cell_type": "markdown",
   "id": "incoming-mercy",
   "metadata": {},
   "source": [
    "# In our initial data analysis, we noticed that individuals who had a stroke make up 5.2% of the data. We will use Syntheic Minority Oversampling Technique (SMOTE) to account for this."
   ]
  },
  {
   "cell_type": "markdown",
   "id": "sitting-planet",
   "metadata": {},
   "source": [
    "# We formatted our model in two ways to obtain the best accuracy score in testing the model with scaling and with SMOTE. "
   ]
  },
  {
   "cell_type": "markdown",
   "id": "aware-monitoring",
   "metadata": {},
   "source": [
    "## Import Dependencies"
   ]
  },
  {
   "cell_type": "code",
   "execution_count": 1,
   "id": "surgical-speaking",
   "metadata": {},
   "outputs": [],
   "source": [
    "import pandas as pd\n",
    "import numpy as np\n",
    "import matplotlib.pyplot as plt\n",
    "import seaborn as sns\n",
    "%matplotlib inline\n",
    "\n",
    "from sklearn.linear_model import LogisticRegression\n",
    "from sklearn.model_selection import train_test_split\n",
    "from sklearn.preprocessing import StandardScaler\n",
    "from sklearn.neighbors import KNeighborsClassifier\n",
    "from sklearn.metrics import accuracy_score\n",
    "from sklearn.metrics import classification_report, confusion_matrix\n",
    "from sklearn import linear_model\n",
    "from sklearn import metrics\n",
    "\n",
    "# Import SMOTE\n",
    "from imblearn.over_sampling import SMOTE"
   ]
  },
  {
   "cell_type": "markdown",
   "id": "opposed-engineer",
   "metadata": {},
   "source": [
    "# Test #1"
   ]
  },
  {
   "cell_type": "code",
   "execution_count": 2,
   "id": "martial-albania",
   "metadata": {
    "scrolled": true
   },
   "outputs": [
    {
     "data": {
      "text/html": [
       "<div>\n",
       "<style scoped>\n",
       "    .dataframe tbody tr th:only-of-type {\n",
       "        vertical-align: middle;\n",
       "    }\n",
       "\n",
       "    .dataframe tbody tr th {\n",
       "        vertical-align: top;\n",
       "    }\n",
       "\n",
       "    .dataframe thead th {\n",
       "        text-align: right;\n",
       "    }\n",
       "</style>\n",
       "<table border=\"1\" class=\"dataframe\">\n",
       "  <thead>\n",
       "    <tr style=\"text-align: right;\">\n",
       "      <th></th>\n",
       "      <th>gender</th>\n",
       "      <th>age</th>\n",
       "      <th>hypertension</th>\n",
       "      <th>heart_disease</th>\n",
       "      <th>ever_married</th>\n",
       "      <th>work_type</th>\n",
       "      <th>Residence_type</th>\n",
       "      <th>avg_glucose_level</th>\n",
       "      <th>bmi</th>\n",
       "      <th>smoking_status</th>\n",
       "      <th>stroke</th>\n",
       "    </tr>\n",
       "  </thead>\n",
       "  <tbody>\n",
       "    <tr>\n",
       "      <th>0</th>\n",
       "      <td>Male</td>\n",
       "      <td>67.0</td>\n",
       "      <td>0</td>\n",
       "      <td>1</td>\n",
       "      <td>Yes</td>\n",
       "      <td>Private</td>\n",
       "      <td>Urban</td>\n",
       "      <td>228.69</td>\n",
       "      <td>36.6</td>\n",
       "      <td>formerly smoked</td>\n",
       "      <td>1</td>\n",
       "    </tr>\n",
       "    <tr>\n",
       "      <th>1</th>\n",
       "      <td>Male</td>\n",
       "      <td>80.0</td>\n",
       "      <td>0</td>\n",
       "      <td>1</td>\n",
       "      <td>Yes</td>\n",
       "      <td>Private</td>\n",
       "      <td>Rural</td>\n",
       "      <td>105.92</td>\n",
       "      <td>32.5</td>\n",
       "      <td>never smoked</td>\n",
       "      <td>1</td>\n",
       "    </tr>\n",
       "    <tr>\n",
       "      <th>2</th>\n",
       "      <td>Female</td>\n",
       "      <td>49.0</td>\n",
       "      <td>0</td>\n",
       "      <td>0</td>\n",
       "      <td>Yes</td>\n",
       "      <td>Private</td>\n",
       "      <td>Urban</td>\n",
       "      <td>171.23</td>\n",
       "      <td>34.4</td>\n",
       "      <td>smokes</td>\n",
       "      <td>1</td>\n",
       "    </tr>\n",
       "    <tr>\n",
       "      <th>3</th>\n",
       "      <td>Female</td>\n",
       "      <td>79.0</td>\n",
       "      <td>1</td>\n",
       "      <td>0</td>\n",
       "      <td>Yes</td>\n",
       "      <td>Self-employed</td>\n",
       "      <td>Rural</td>\n",
       "      <td>174.12</td>\n",
       "      <td>24.0</td>\n",
       "      <td>never smoked</td>\n",
       "      <td>1</td>\n",
       "    </tr>\n",
       "    <tr>\n",
       "      <th>4</th>\n",
       "      <td>Male</td>\n",
       "      <td>81.0</td>\n",
       "      <td>0</td>\n",
       "      <td>0</td>\n",
       "      <td>Yes</td>\n",
       "      <td>Private</td>\n",
       "      <td>Urban</td>\n",
       "      <td>186.21</td>\n",
       "      <td>29.0</td>\n",
       "      <td>formerly smoked</td>\n",
       "      <td>1</td>\n",
       "    </tr>\n",
       "  </tbody>\n",
       "</table>\n",
       "</div>"
      ],
      "text/plain": [
       "   gender   age  hypertension  heart_disease ever_married      work_type  \\\n",
       "0    Male  67.0             0              1          Yes        Private   \n",
       "1    Male  80.0             0              1          Yes        Private   \n",
       "2  Female  49.0             0              0          Yes        Private   \n",
       "3  Female  79.0             1              0          Yes  Self-employed   \n",
       "4    Male  81.0             0              0          Yes        Private   \n",
       "\n",
       "  Residence_type  avg_glucose_level   bmi   smoking_status  stroke  \n",
       "0          Urban             228.69  36.6  formerly smoked       1  \n",
       "1          Rural             105.92  32.5     never smoked       1  \n",
       "2          Urban             171.23  34.4           smokes       1  \n",
       "3          Rural             174.12  24.0     never smoked       1  \n",
       "4          Urban             186.21  29.0  formerly smoked       1  "
      ]
     },
     "execution_count": 2,
     "metadata": {},
     "output_type": "execute_result"
    }
   ],
   "source": [
    "# Reading the csv\n",
    "df = pd.read_csv(\"clean_data/stroke_dataset.csv\")\n",
    "df.head()"
   ]
  },
  {
   "cell_type": "code",
   "execution_count": 3,
   "id": "instructional-being",
   "metadata": {},
   "outputs": [
    {
     "name": "stdout",
     "output_type": "stream",
     "text": [
      "employer_employed    3462\n",
      "Self-employed         775\n",
      "Name: work_type, dtype: int64\n"
     ]
    }
   ],
   "source": [
    "#Condense working_types\n",
    "df.replace([\"Private\", \"Govt_job\", \"Never_worked\"], \"employer_employed\", inplace=True)\n",
    "print(df['work_type'].value_counts())"
   ]
  },
  {
   "cell_type": "code",
   "execution_count": 4,
   "id": "impressed-north",
   "metadata": {
    "scrolled": false
   },
   "outputs": [
    {
     "data": {
      "text/plain": [
       "1    3204\n",
       "0    1033\n",
       "Name: ever_married, dtype: int64"
      ]
     },
     "execution_count": 4,
     "metadata": {},
     "output_type": "execute_result"
    }
   ],
   "source": [
    "# Encoding 'ever_married' into binary code\n",
    "df['ever_married'].replace(\"No\", 0, inplace=True)\n",
    "df['ever_married'].replace(\"Yes\", 1, inplace=True)\n",
    "df['ever_married'].value_counts()"
   ]
  },
  {
   "cell_type": "code",
   "execution_count": 5,
   "id": "developmental-rubber",
   "metadata": {
    "scrolled": true
   },
   "outputs": [
    {
     "data": {
      "text/html": [
       "<div>\n",
       "<style scoped>\n",
       "    .dataframe tbody tr th:only-of-type {\n",
       "        vertical-align: middle;\n",
       "    }\n",
       "\n",
       "    .dataframe tbody tr th {\n",
       "        vertical-align: top;\n",
       "    }\n",
       "\n",
       "    .dataframe thead th {\n",
       "        text-align: right;\n",
       "    }\n",
       "</style>\n",
       "<table border=\"1\" class=\"dataframe\">\n",
       "  <thead>\n",
       "    <tr style=\"text-align: right;\">\n",
       "      <th></th>\n",
       "      <th>age</th>\n",
       "      <th>avg_glucose_level</th>\n",
       "      <th>bmi</th>\n",
       "      <th>stroke</th>\n",
       "      <th>gender_Female</th>\n",
       "      <th>gender_Male</th>\n",
       "      <th>Residence_type_Rural</th>\n",
       "      <th>Residence_type_Urban</th>\n",
       "      <th>hypertension_0</th>\n",
       "      <th>hypertension_1</th>\n",
       "      <th>heart_disease_0</th>\n",
       "      <th>heart_disease_1</th>\n",
       "      <th>ever_married_0</th>\n",
       "      <th>ever_married_1</th>\n",
       "      <th>work_type_Self-employed</th>\n",
       "      <th>work_type_employer_employed</th>\n",
       "      <th>smoking_status_Unknown</th>\n",
       "      <th>smoking_status_formerly smoked</th>\n",
       "      <th>smoking_status_never smoked</th>\n",
       "      <th>smoking_status_smokes</th>\n",
       "    </tr>\n",
       "  </thead>\n",
       "  <tbody>\n",
       "    <tr>\n",
       "      <th>0</th>\n",
       "      <td>67.0</td>\n",
       "      <td>228.69</td>\n",
       "      <td>36.6</td>\n",
       "      <td>1</td>\n",
       "      <td>0</td>\n",
       "      <td>1</td>\n",
       "      <td>0</td>\n",
       "      <td>1</td>\n",
       "      <td>1</td>\n",
       "      <td>0</td>\n",
       "      <td>0</td>\n",
       "      <td>1</td>\n",
       "      <td>0</td>\n",
       "      <td>1</td>\n",
       "      <td>0</td>\n",
       "      <td>1</td>\n",
       "      <td>0</td>\n",
       "      <td>1</td>\n",
       "      <td>0</td>\n",
       "      <td>0</td>\n",
       "    </tr>\n",
       "    <tr>\n",
       "      <th>1</th>\n",
       "      <td>80.0</td>\n",
       "      <td>105.92</td>\n",
       "      <td>32.5</td>\n",
       "      <td>1</td>\n",
       "      <td>0</td>\n",
       "      <td>1</td>\n",
       "      <td>1</td>\n",
       "      <td>0</td>\n",
       "      <td>1</td>\n",
       "      <td>0</td>\n",
       "      <td>0</td>\n",
       "      <td>1</td>\n",
       "      <td>0</td>\n",
       "      <td>1</td>\n",
       "      <td>0</td>\n",
       "      <td>1</td>\n",
       "      <td>0</td>\n",
       "      <td>0</td>\n",
       "      <td>1</td>\n",
       "      <td>0</td>\n",
       "    </tr>\n",
       "    <tr>\n",
       "      <th>2</th>\n",
       "      <td>49.0</td>\n",
       "      <td>171.23</td>\n",
       "      <td>34.4</td>\n",
       "      <td>1</td>\n",
       "      <td>1</td>\n",
       "      <td>0</td>\n",
       "      <td>0</td>\n",
       "      <td>1</td>\n",
       "      <td>1</td>\n",
       "      <td>0</td>\n",
       "      <td>1</td>\n",
       "      <td>0</td>\n",
       "      <td>0</td>\n",
       "      <td>1</td>\n",
       "      <td>0</td>\n",
       "      <td>1</td>\n",
       "      <td>0</td>\n",
       "      <td>0</td>\n",
       "      <td>0</td>\n",
       "      <td>1</td>\n",
       "    </tr>\n",
       "    <tr>\n",
       "      <th>3</th>\n",
       "      <td>79.0</td>\n",
       "      <td>174.12</td>\n",
       "      <td>24.0</td>\n",
       "      <td>1</td>\n",
       "      <td>1</td>\n",
       "      <td>0</td>\n",
       "      <td>1</td>\n",
       "      <td>0</td>\n",
       "      <td>0</td>\n",
       "      <td>1</td>\n",
       "      <td>1</td>\n",
       "      <td>0</td>\n",
       "      <td>0</td>\n",
       "      <td>1</td>\n",
       "      <td>1</td>\n",
       "      <td>0</td>\n",
       "      <td>0</td>\n",
       "      <td>0</td>\n",
       "      <td>1</td>\n",
       "      <td>0</td>\n",
       "    </tr>\n",
       "    <tr>\n",
       "      <th>4</th>\n",
       "      <td>81.0</td>\n",
       "      <td>186.21</td>\n",
       "      <td>29.0</td>\n",
       "      <td>1</td>\n",
       "      <td>0</td>\n",
       "      <td>1</td>\n",
       "      <td>0</td>\n",
       "      <td>1</td>\n",
       "      <td>1</td>\n",
       "      <td>0</td>\n",
       "      <td>1</td>\n",
       "      <td>0</td>\n",
       "      <td>0</td>\n",
       "      <td>1</td>\n",
       "      <td>0</td>\n",
       "      <td>1</td>\n",
       "      <td>0</td>\n",
       "      <td>1</td>\n",
       "      <td>0</td>\n",
       "      <td>0</td>\n",
       "    </tr>\n",
       "  </tbody>\n",
       "</table>\n",
       "</div>"
      ],
      "text/plain": [
       "    age  avg_glucose_level   bmi  stroke  gender_Female  gender_Male  \\\n",
       "0  67.0             228.69  36.6       1              0            1   \n",
       "1  80.0             105.92  32.5       1              0            1   \n",
       "2  49.0             171.23  34.4       1              1            0   \n",
       "3  79.0             174.12  24.0       1              1            0   \n",
       "4  81.0             186.21  29.0       1              0            1   \n",
       "\n",
       "   Residence_type_Rural  Residence_type_Urban  hypertension_0  hypertension_1  \\\n",
       "0                     0                     1               1               0   \n",
       "1                     1                     0               1               0   \n",
       "2                     0                     1               1               0   \n",
       "3                     1                     0               0               1   \n",
       "4                     0                     1               1               0   \n",
       "\n",
       "   heart_disease_0  heart_disease_1  ever_married_0  ever_married_1  \\\n",
       "0                0                1               0               1   \n",
       "1                0                1               0               1   \n",
       "2                1                0               0               1   \n",
       "3                1                0               0               1   \n",
       "4                1                0               0               1   \n",
       "\n",
       "   work_type_Self-employed  work_type_employer_employed  \\\n",
       "0                        0                            1   \n",
       "1                        0                            1   \n",
       "2                        0                            1   \n",
       "3                        1                            0   \n",
       "4                        0                            1   \n",
       "\n",
       "   smoking_status_Unknown  smoking_status_formerly smoked  \\\n",
       "0                       0                               1   \n",
       "1                       0                               0   \n",
       "2                       0                               0   \n",
       "3                       0                               0   \n",
       "4                       0                               1   \n",
       "\n",
       "   smoking_status_never smoked  smoking_status_smokes  \n",
       "0                            0                      0  \n",
       "1                            1                      0  \n",
       "2                            0                      1  \n",
       "3                            1                      0  \n",
       "4                            0                      0  "
      ]
     },
     "execution_count": 5,
     "metadata": {},
     "output_type": "execute_result"
    }
   ],
   "source": [
    "# Using get_dummies to encode features\n",
    "machine_df = pd.get_dummies(df, columns=[\"gender\",\"Residence_type\",\"hypertension\", \"heart_disease\", \"ever_married\",\n",
    "                                \"work_type\", \"smoking_status\"\n",
    "                                ])\n",
    "machine_df.head()"
   ]
  },
  {
   "cell_type": "markdown",
   "id": "professional-western",
   "metadata": {},
   "source": [
    "### Assigning features and labels"
   ]
  },
  {
   "cell_type": "code",
   "execution_count": 6,
   "id": "certain-blair",
   "metadata": {},
   "outputs": [],
   "source": [
    "X = machine_df.drop([\"stroke\"], axis=1)\n",
    "y = machine_df[\"stroke\"].values.reshape(-1,1)"
   ]
  },
  {
   "cell_type": "markdown",
   "id": "fifteen-lounge",
   "metadata": {},
   "source": [
    "### Training - scale - fit - LogisticRegression"
   ]
  },
  {
   "cell_type": "code",
   "execution_count": 7,
   "id": "interesting-antigua",
   "metadata": {
    "scrolled": false
   },
   "outputs": [
    {
     "name": "stdout",
     "output_type": "stream",
     "text": [
      "Testing Score: 0.955171\n"
     ]
    }
   ],
   "source": [
    "# Train_test_split\n",
    "X_train,X_test,y_train,y_test = train_test_split(X,y,test_size=0.60, random_state=42)\n",
    "\n",
    "# Scaler for features\n",
    "X_scaler = StandardScaler().fit(X_train)\n",
    "\n",
    "# Transform Features\n",
    "X_train_scaled = X_scaler.transform(X_train)\n",
    "X_test_scaled = X_scaler.transform(X_test)\n",
    "\n",
    "# Fit & score the logisticRegress Classifier\n",
    "clf = LogisticRegression()\n",
    "clf = clf.fit(X=X_train_scaled, y=y_train.ravel())\n",
    "score = clf.score(X_test_scaled,y_test)\n",
    "\n",
    "\n",
    "print('Testing Score: %f' % clf.score(X_test_scaled, y_test))"
   ]
  },
  {
   "cell_type": "markdown",
   "id": "transsexual-ethics",
   "metadata": {},
   "source": [
    "# Training w/ SMOTE"
   ]
  },
  {
   "cell_type": "code",
   "execution_count": 8,
   "id": "interstate-madagascar",
   "metadata": {
    "scrolled": true
   },
   "outputs": [
    {
     "name": "stdout",
     "output_type": "stream",
     "text": [
      "Testing Score: 0.922139\n"
     ]
    }
   ],
   "source": [
    "# Train_test_split\n",
    "X_train,X_test,y_train,y_test = train_test_split(X,y,test_size=0.60, random_state=42)\n",
    "\n",
    "#SMOTE to handle class imbalance\n",
    "smote = SMOTE(sampling_strategy=0.2, k_neighbors=3)\n",
    "X_train_SMOTE, y_train_SMOTE = smote.fit_resample(X_train.astype('float'), y_train.ravel())\n",
    "y_train_SMOTE = y_train_SMOTE.reshape(-1,1)\n",
    "\n",
    "# Create Scaler for features\n",
    "X_SMOTE_scaler = StandardScaler().fit(X_train_SMOTE)\n",
    "\n",
    "# Scale & transform Features\n",
    "X_train_SMOTE_scaled = X_SMOTE_scaler.transform(X_train_SMOTE)\n",
    "X_test_SMOTE_scaled = X_SMOTE_scaler.transform(X_test)\n",
    "\n",
    "# Fit & score the logisticRegress Classifier\n",
    "clf = LogisticRegression()\n",
    "clf = clf.fit(X=X_train_SMOTE_scaled, y=y_train_SMOTE.ravel())\n",
    "score = clf.score(X_test_SMOTE_scaled,y_test)\n",
    " \n",
    "\n",
    "print('Testing Score: %f' % clf.score(X_test_SMOTE_scaled, y_test))"
   ]
  },
  {
   "cell_type": "markdown",
   "id": "least-italic",
   "metadata": {},
   "source": [
    "## Test #2 - Dropping irrelevant Columns"
   ]
  },
  {
   "cell_type": "code",
   "execution_count": 9,
   "id": "material-amsterdam",
   "metadata": {
    "scrolled": true
   },
   "outputs": [
    {
     "data": {
      "text/html": [
       "<div>\n",
       "<style scoped>\n",
       "    .dataframe tbody tr th:only-of-type {\n",
       "        vertical-align: middle;\n",
       "    }\n",
       "\n",
       "    .dataframe tbody tr th {\n",
       "        vertical-align: top;\n",
       "    }\n",
       "\n",
       "    .dataframe thead th {\n",
       "        text-align: right;\n",
       "    }\n",
       "</style>\n",
       "<table border=\"1\" class=\"dataframe\">\n",
       "  <thead>\n",
       "    <tr style=\"text-align: right;\">\n",
       "      <th></th>\n",
       "      <th>hypertension</th>\n",
       "      <th>heart_disease</th>\n",
       "      <th>avg_glucose_level</th>\n",
       "      <th>bmi</th>\n",
       "      <th>smoking_status</th>\n",
       "      <th>stroke</th>\n",
       "    </tr>\n",
       "  </thead>\n",
       "  <tbody>\n",
       "    <tr>\n",
       "      <th>0</th>\n",
       "      <td>0</td>\n",
       "      <td>1</td>\n",
       "      <td>228.69</td>\n",
       "      <td>36.6</td>\n",
       "      <td>formerly smoked</td>\n",
       "      <td>1</td>\n",
       "    </tr>\n",
       "    <tr>\n",
       "      <th>1</th>\n",
       "      <td>0</td>\n",
       "      <td>1</td>\n",
       "      <td>105.92</td>\n",
       "      <td>32.5</td>\n",
       "      <td>never smoked</td>\n",
       "      <td>1</td>\n",
       "    </tr>\n",
       "    <tr>\n",
       "      <th>2</th>\n",
       "      <td>0</td>\n",
       "      <td>0</td>\n",
       "      <td>171.23</td>\n",
       "      <td>34.4</td>\n",
       "      <td>smokes</td>\n",
       "      <td>1</td>\n",
       "    </tr>\n",
       "    <tr>\n",
       "      <th>3</th>\n",
       "      <td>1</td>\n",
       "      <td>0</td>\n",
       "      <td>174.12</td>\n",
       "      <td>24.0</td>\n",
       "      <td>never smoked</td>\n",
       "      <td>1</td>\n",
       "    </tr>\n",
       "    <tr>\n",
       "      <th>4</th>\n",
       "      <td>0</td>\n",
       "      <td>0</td>\n",
       "      <td>186.21</td>\n",
       "      <td>29.0</td>\n",
       "      <td>formerly smoked</td>\n",
       "      <td>1</td>\n",
       "    </tr>\n",
       "  </tbody>\n",
       "</table>\n",
       "</div>"
      ],
      "text/plain": [
       "   hypertension  heart_disease  avg_glucose_level   bmi   smoking_status  \\\n",
       "0             0              1             228.69  36.6  formerly smoked   \n",
       "1             0              1             105.92  32.5     never smoked   \n",
       "2             0              0             171.23  34.4           smokes   \n",
       "3             1              0             174.12  24.0     never smoked   \n",
       "4             0              0             186.21  29.0  formerly smoked   \n",
       "\n",
       "   stroke  \n",
       "0       1  \n",
       "1       1  \n",
       "2       1  \n",
       "3       1  \n",
       "4       1  "
      ]
     },
     "execution_count": 9,
     "metadata": {},
     "output_type": "execute_result"
    }
   ],
   "source": [
    "# Re-TEST dropping columns - Remove gender, age, married, work_type, residence type\n",
    "modified_df = df.drop(columns=[\"gender\",\"age\",\"ever_married\",\"work_type\",\"Residence_type\"])\n",
    "modified_df.head()"
   ]
  },
  {
   "cell_type": "code",
   "execution_count": 10,
   "id": "arabic-framework",
   "metadata": {
    "scrolled": true
   },
   "outputs": [
    {
     "data": {
      "text/html": [
       "<div>\n",
       "<style scoped>\n",
       "    .dataframe tbody tr th:only-of-type {\n",
       "        vertical-align: middle;\n",
       "    }\n",
       "\n",
       "    .dataframe tbody tr th {\n",
       "        vertical-align: top;\n",
       "    }\n",
       "\n",
       "    .dataframe thead th {\n",
       "        text-align: right;\n",
       "    }\n",
       "</style>\n",
       "<table border=\"1\" class=\"dataframe\">\n",
       "  <thead>\n",
       "    <tr style=\"text-align: right;\">\n",
       "      <th></th>\n",
       "      <th>hypertension</th>\n",
       "      <th>heart_disease</th>\n",
       "      <th>avg_glucose_level</th>\n",
       "      <th>bmi</th>\n",
       "      <th>stroke</th>\n",
       "      <th>smoking_status_Unknown</th>\n",
       "      <th>smoking_status_formerly smoked</th>\n",
       "      <th>smoking_status_never smoked</th>\n",
       "      <th>smoking_status_smokes</th>\n",
       "    </tr>\n",
       "  </thead>\n",
       "  <tbody>\n",
       "    <tr>\n",
       "      <th>0</th>\n",
       "      <td>0</td>\n",
       "      <td>1</td>\n",
       "      <td>228.69</td>\n",
       "      <td>36.6</td>\n",
       "      <td>1</td>\n",
       "      <td>0</td>\n",
       "      <td>1</td>\n",
       "      <td>0</td>\n",
       "      <td>0</td>\n",
       "    </tr>\n",
       "    <tr>\n",
       "      <th>1</th>\n",
       "      <td>0</td>\n",
       "      <td>1</td>\n",
       "      <td>105.92</td>\n",
       "      <td>32.5</td>\n",
       "      <td>1</td>\n",
       "      <td>0</td>\n",
       "      <td>0</td>\n",
       "      <td>1</td>\n",
       "      <td>0</td>\n",
       "    </tr>\n",
       "    <tr>\n",
       "      <th>2</th>\n",
       "      <td>0</td>\n",
       "      <td>0</td>\n",
       "      <td>171.23</td>\n",
       "      <td>34.4</td>\n",
       "      <td>1</td>\n",
       "      <td>0</td>\n",
       "      <td>0</td>\n",
       "      <td>0</td>\n",
       "      <td>1</td>\n",
       "    </tr>\n",
       "    <tr>\n",
       "      <th>3</th>\n",
       "      <td>1</td>\n",
       "      <td>0</td>\n",
       "      <td>174.12</td>\n",
       "      <td>24.0</td>\n",
       "      <td>1</td>\n",
       "      <td>0</td>\n",
       "      <td>0</td>\n",
       "      <td>1</td>\n",
       "      <td>0</td>\n",
       "    </tr>\n",
       "    <tr>\n",
       "      <th>4</th>\n",
       "      <td>0</td>\n",
       "      <td>0</td>\n",
       "      <td>186.21</td>\n",
       "      <td>29.0</td>\n",
       "      <td>1</td>\n",
       "      <td>0</td>\n",
       "      <td>1</td>\n",
       "      <td>0</td>\n",
       "      <td>0</td>\n",
       "    </tr>\n",
       "  </tbody>\n",
       "</table>\n",
       "</div>"
      ],
      "text/plain": [
       "   hypertension  heart_disease  avg_glucose_level   bmi  stroke  \\\n",
       "0             0              1             228.69  36.6       1   \n",
       "1             0              1             105.92  32.5       1   \n",
       "2             0              0             171.23  34.4       1   \n",
       "3             1              0             174.12  24.0       1   \n",
       "4             0              0             186.21  29.0       1   \n",
       "\n",
       "   smoking_status_Unknown  smoking_status_formerly smoked  \\\n",
       "0                       0                               1   \n",
       "1                       0                               0   \n",
       "2                       0                               0   \n",
       "3                       0                               0   \n",
       "4                       0                               1   \n",
       "\n",
       "   smoking_status_never smoked  smoking_status_smokes  \n",
       "0                            0                      0  \n",
       "1                            1                      0  \n",
       "2                            0                      1  \n",
       "3                            1                      0  \n",
       "4                            0                      0  "
      ]
     },
     "execution_count": 10,
     "metadata": {},
     "output_type": "execute_result"
    }
   ],
   "source": [
    "# # Get Dummies\n",
    "# machine_ready_df = pd.get_dummies(modified_df, columns=[\"hypertension\", \"heart_disease\",\"smoking_status\"])\n",
    "# machine_ready_df.head()\n",
    "\n",
    "# Only Dummifying smoking_status. Did not get_dummies the other columns since already encoded to reduce multicollinearity\n",
    "machine_ready_df = pd.get_dummies(modified_df, columns=[\"smoking_status\"])\n",
    "machine_ready_df.head()"
   ]
  },
  {
   "cell_type": "code",
   "execution_count": 11,
   "id": "opposed-contract",
   "metadata": {},
   "outputs": [],
   "source": [
    "#Creating FEATURES & LABEL\n",
    "X = machine_ready_df.drop([\"stroke\"], axis=1)\n",
    "y = machine_ready_df[\"stroke\"].values.reshape(-1,1)"
   ]
  },
  {
   "cell_type": "markdown",
   "id": "involved-receiver",
   "metadata": {},
   "source": [
    "### Train Data"
   ]
  },
  {
   "cell_type": "code",
   "execution_count": 12,
   "id": "interpreted-factory",
   "metadata": {},
   "outputs": [],
   "source": [
    "# Train_test_split\n",
    "X_train,X_test,y_train,y_test = train_test_split(X,y,test_size=0.60, random_state=42)\n",
    "\n",
    "# Scaler for features\n",
    "X_scaler = StandardScaler().fit(X_train)\n",
    "\n",
    "# Scale Features\n",
    "X_train_scaled = X_scaler.transform(X_train)\n",
    "X_test_scaled = X_scaler.transform(X_test)\n",
    "\n",
    "# Fit & score the logisticRegress Classifier\n",
    "# clf = LogisticRegression(solver='liblinear', penalty='l2', C=0.00005)\n",
    "clf = LogisticRegression()\n",
    "clf = clf.fit(X=X_train_scaled, y=y_train.ravel())\n",
    "score = clf.score(X_test_scaled,y_test)\n",
    "pred = clf.predict(X_test_scaled)"
   ]
  },
  {
   "cell_type": "code",
   "execution_count": 13,
   "id": "noticed-height",
   "metadata": {
    "scrolled": true
   },
   "outputs": [
    {
     "name": "stdout",
     "output_type": "stream",
     "text": [
      "TESTING SCORE: 0.954778\n"
     ]
    },
    {
     "data": {
      "text/plain": [
       "<AxesSubplot:>"
      ]
     },
     "execution_count": 13,
     "metadata": {},
     "output_type": "execute_result"
    },
    {
     "data": {
      "image/png": "[encoded data removed]",
      "text/plain": [
       "<Figure size 432x288 with 2 Axes>"
      ]
     },
     "metadata": {
      "needs_background": "light"
     },
     "output_type": "display_data"
    }
   ],
   "source": [
    "#Confusion Matrix\n",
    "print('TESTING SCORE: %f' % score)\n",
    "cm = confusion_matrix(y_test,pred)\n",
    "group_names = ['TP', 'FP','FN','TN']\n",
    "group_counts = [\"{0:0.0f}\".format(value) for value in cm.flatten()]\n",
    "group_percentages = [\"{0:.2%}\".format(value) for value in cm.flatten()/np.sum(cm)]\n",
    "labels = [f\"{v1}\\n{v2}\\n{v3}\" for v1,v2,v3 in zip(group_names,group_counts,group_percentages)]\n",
    "labels = np.asarray(labels).reshape(2,2)\n",
    "x_categories = ['Non-stroke', 'Stroke']\n",
    "y_categories = ['Non-stroke', 'Stroke']\n",
    "\n",
    "sns.heatmap(cm, linewidths=1, annot=labels, xticklabels=x_categories, yticklabels=y_categories, fmt='', cmap=\"Blues\")"
   ]
  },
  {
   "cell_type": "markdown",
   "id": "disturbed-meditation",
   "metadata": {},
   "source": [
    "## Confusion Matrix Analysis\n",
    "#### - Out of 2543 patients, the model predicted 2430 patients as positives, but 3 patients were false-positives meaning these patients were actually at risk for stroke.\n",
    "#### - 113 out of 2543 patients were determined as negatives, however the majority of them were false negatives with only one being a true-negative"
   ]
  },
  {
   "cell_type": "code",
   "execution_count": 14,
   "id": "adjacent-programmer",
   "metadata": {},
   "outputs": [
    {
     "name": "stdout",
     "output_type": "stream",
     "text": [
      "              precision    recall  f1-score   support\n",
      "\n",
      "           0       0.96      1.00      0.98      2430\n",
      "           1       0.25      0.01      0.02       113\n",
      "\n",
      "    accuracy                           0.95      2543\n",
      "   macro avg       0.60      0.50      0.50      2543\n",
      "weighted avg       0.92      0.95      0.93      2543\n",
      "\n"
     ]
    }
   ],
   "source": [
    "# Confusion matrix metrics\n",
    "matrix = classification_report(y_test,pred)\n",
    "print(matrix)"
   ]
  },
  {
   "cell_type": "code",
   "execution_count": 15,
   "id": "capital-captain",
   "metadata": {},
   "outputs": [],
   "source": [
    "# np.set_printoptions(threshold=np.inf)\n",
    "\n",
    "# y_pred = clf.predict(X_test_scaled)\n",
    "# print(y_pred)"
   ]
  },
  {
   "cell_type": "code",
   "execution_count": 16,
   "id": "whole-queensland",
   "metadata": {},
   "outputs": [],
   "source": [
    "# Print statement to show unqiue values\n",
    "# print(list(set(y_pred))"
   ]
  },
  {
   "cell_type": "markdown",
   "id": "material-ecuador",
   "metadata": {},
   "source": [
    "### Training Data - non-scaled"
   ]
  },
  {
   "cell_type": "code",
   "execution_count": 17,
   "id": "worth-cleaning",
   "metadata": {
    "scrolled": false
   },
   "outputs": [
    {
     "name": "stdout",
     "output_type": "stream",
     "text": [
      "Testing Score: 0.935142\n"
     ]
    }
   ],
   "source": [
    "# Train_test_split\n",
    "X_train,X_test,y_train,y_test = train_test_split(X,y,test_size=0.20, random_state=42)\n",
    "\n",
    "# Fit & score the logisticRegress Classifier\n",
    "# clf = LogisticRegression(solver='liblinear', penalty='l2', C=0.00005)\n",
    "clf = LogisticRegression(max_iter=10000)\n",
    "clf = clf.fit(X_train, y_train.ravel())\n",
    "score = clf.score(X_test,y_test)\n",
    "pred = clf.predict(X_test)\n",
    "\n",
    "print('Testing Score: %f' % clf.score(X_test, y_test))"
   ]
  },
  {
   "cell_type": "markdown",
   "id": "frequent-notion",
   "metadata": {},
   "source": [
    "### Train w/ SMOTE"
   ]
  },
  {
   "cell_type": "code",
   "execution_count": 44,
   "id": "greatest-daniel",
   "metadata": {
    "scrolled": true
   },
   "outputs": [
    {
     "name": "stdout",
     "output_type": "stream",
     "text": [
      "Testing Score: 0.911557\n"
     ]
    }
   ],
   "source": [
    "# Using SMOTE to synthetically \n",
    "# Train_test_split\n",
    "X_train,X_test,y_train,y_test = train_test_split(X,y,test_size=0.20, random_state=42)\n",
    "\n",
    "#SMOTE to handle class imbalance\n",
    "smote = SMOTE(sampling_strategy=0.2, k_neighbors=3)\n",
    "X_train_SMOTE, y_train_SMOTE = smote.fit_resample(X_train.astype('float'), y_train.ravel())\n",
    "y_train_SMOTE = y_train_SMOTE.reshape(-1,1)\n",
    "\n",
    "\n",
    "# Create Scaler for features\n",
    "X_SMOTE_scaler = StandardScaler().fit(X_train_SMOTE)\n",
    "\n",
    "\n",
    "# Scale & transform Features\n",
    "X_train_SMOTE_scaled = X_SMOTE_scaler.transform(X_train_SMOTE)\n",
    "X_test_SMOTE_scaled = X_SMOTE_scaler.transform(X_test)\n",
    "\n",
    "\n",
    "# Fit & score the logisticRegress Classifier\n",
    "clf = LogisticRegression()\n",
    "clf = clf.fit(X=X_train_SMOTE_scaled, y=y_train_SMOTE.ravel())\n",
    "score = clf.score(X_test_SMOTE_scaled,y_test)\n",
    "pred = clf.predict(X_test_SMOTE_scaled)\n",
    "\n",
    "\n",
    "\n",
    "print('Testing Score: %f' % clf.score(X_test_SMOTE_scaled, y_test))"
   ]
  },
  {
   "cell_type": "code",
   "execution_count": 19,
   "id": "super-creature",
   "metadata": {
    "scrolled": true
   },
   "outputs": [
    {
     "name": "stdout",
     "output_type": "stream",
     "text": [
      "TESTING SCORE: 0.910377\n"
     ]
    },
    {
     "data": {
      "text/plain": [
       "<AxesSubplot:>"
      ]
     },
     "execution_count": 19,
     "metadata": {},
     "output_type": "execute_result"
    },
    {
     "data": {
      "image/png": "[encoded data removed]",
      "text/plain": [
       "<Figure size 432x288 with 2 Axes>"
      ]
     },
     "metadata": {
      "needs_background": "light"
     },
     "output_type": "display_data"
    }
   ],
   "source": [
    "#Confusion Matrix\n",
    "print('TESTING SCORE: %f' % score)\n",
    "cm = confusion_matrix(y_test,pred)\n",
    "group_names = ['TP', 'FP','FN','TN']\n",
    "group_counts = [\"{0:0.0f}\".format(value) for value in cm.flatten()]\n",
    "group_percentages = [\"{0:.2%}\".format(value) for value in cm.flatten()/np.sum(cm)]\n",
    "labels = [f\"{v1}\\n{v2}\\n{v3}\" for v1,v2,v3 in zip(group_names,group_counts,group_percentages)]\n",
    "labels = np.asarray(labels).reshape(2,2)\n",
    "x_categories = ['Non-stroke', 'Stroke']\n",
    "y_categories = ['Non-stroke', 'Stroke']\n",
    "\n",
    "sns.heatmap(cm, linewidths=1, annot=labels, xticklabels=x_categories, yticklabels=y_categories, fmt='', cmap=\"Blues\")"
   ]
  },
  {
   "cell_type": "markdown",
   "id": "golden-newsletter",
   "metadata": {},
   "source": [
    "### Train w/ SMOTE - non-scaled"
   ]
  },
  {
   "cell_type": "code",
   "execution_count": 20,
   "id": "useful-settlement",
   "metadata": {
    "scrolled": true
   },
   "outputs": [],
   "source": [
    "# Train_test_split\n",
    "X_train,X_test,y_train,y_test = train_test_split(X,y,test_size=0.20, random_state=42)\n",
    "\n",
    "#SMOTE to handle class imbalance\n",
    "smote = SMOTE(sampling_strategy=0.2, k_neighbors=3)\n",
    "X_train_SMOTE, y_train_SMOTE = smote.fit_resample(X_train.astype('float'), y_train.ravel())\n",
    "y_train_SMOTE = y_train_SMOTE.reshape(-1,1)\n",
    "\n",
    "# Fit & score the logisticRegress Classifier\n",
    "clf = LogisticRegression(max_iter=10000)\n",
    "clf = clf.fit(X=X_train_SMOTE, y=y_train_SMOTE.ravel())\n",
    "score = clf.score(X_test,y_test)\n",
    "pred = clf.predict(X_test)"
   ]
  },
  {
   "cell_type": "code",
   "execution_count": 21,
   "id": "prime-scout",
   "metadata": {},
   "outputs": [
    {
     "name": "stdout",
     "output_type": "stream",
     "text": [
      "TESTING SCORE: 0.917453\n"
     ]
    },
    {
     "data": {
      "text/plain": [
       "<AxesSubplot:>"
      ]
     },
     "execution_count": 21,
     "metadata": {},
     "output_type": "execute_result"
    },
    {
     "data": {
      "image/png": "[encoded data removed]",
      "text/plain": [
       "<Figure size 432x288 with 2 Axes>"
      ]
     },
     "metadata": {
      "needs_background": "light"
     },
     "output_type": "display_data"
    }
   ],
   "source": [
    "#Confusion Matrix\n",
    "print('TESTING SCORE: %f' % score)\n",
    "cm = confusion_matrix(y_test,pred)\n",
    "group_names = ['TP', 'FP','FN','TN']\n",
    "group_counts = [\"{0:0.0f}\".format(value) for value in cm.flatten()]\n",
    "group_percentages = [\"{0:.2%}\".format(value) for value in cm.flatten()/np.sum(cm)]\n",
    "labels = [f\"{v1}\\n{v2}\\n{v3}\" for v1,v2,v3 in zip(group_names,group_counts,group_percentages)]\n",
    "labels = np.asarray(labels).reshape(2,2)\n",
    "x_categories = ['Non-stroke', 'Stroke']\n",
    "y_categories = ['Non-stroke', 'Stroke']\n",
    "\n",
    "sns.heatmap(cm, linewidths=1, annot=labels, xticklabels=x_categories, yticklabels=y_categories, fmt='', cmap=\"Blues\")"
   ]
  },
  {
   "cell_type": "code",
   "execution_count": 30,
   "id": "religious-fault",
   "metadata": {},
   "outputs": [
    {
     "data": {
      "text/plain": [
       "0.9709962168978562"
      ]
     },
     "execution_count": 30,
     "metadata": {},
     "output_type": "execute_result"
    }
   ],
   "source": [
    "770 / (770+23)"
   ]
  },
  {
   "cell_type": "code",
   "execution_count": null,
   "id": "several-lebanon",
   "metadata": {},
   "outputs": [],
   "source": []
  },
  {
   "cell_type": "code",
   "execution_count": null,
   "id": "aging-vulnerability",
   "metadata": {},
   "outputs": [],
   "source": []
  },
  {
   "cell_type": "code",
   "execution_count": null,
   "id": "foster-progress",
   "metadata": {},
   "outputs": [],
   "source": []
  },
  {
   "cell_type": "code",
   "execution_count": null,
   "id": "emotional-liability",
   "metadata": {},
   "outputs": [],
   "source": []
  },
  {
   "cell_type": "code",
   "execution_count": 22,
   "id": "designing-davis",
   "metadata": {},
   "outputs": [],
   "source": [
    "# # CLASSIFIER - KNeighborsClassifier\n",
    "# model = KNeighborsClassifier()\n",
    "# model.fit(X_train, y_train.values.reshape(-1))\n",
    "# y_predict = model.predict(X_test)\n",
    "\n",
    "# model = KNeighborsClassifier.fit(X_train, y_train.values.ravel())"
   ]
  },
  {
   "cell_type": "code",
   "execution_count": 23,
   "id": "biological-thing",
   "metadata": {},
   "outputs": [],
   "source": [
    "# # sklearn accuracy_score\n",
    "# print(accuracy_score(y_test,y_predict))\n",
    "# pd.crosstab(y_test,y_predict)"
   ]
  },
  {
   "cell_type": "code",
   "execution_count": 24,
   "id": "statistical-imperial",
   "metadata": {},
   "outputs": [],
   "source": [
    "# print(1201 / (1201+3))\n",
    "# print(67 / (67+1))"
   ]
  },
  {
   "cell_type": "code",
   "execution_count": 25,
   "id": "horizontal-purse",
   "metadata": {},
   "outputs": [],
   "source": [
    "# SMOTE\n",
    "# smote = SMOTE()\n",
    "# X_train_smote, y_train_smote = smote.fit_resample(X_train,y_train)"
   ]
  },
  {
   "cell_type": "code",
   "execution_count": 26,
   "id": "internal-methodology",
   "metadata": {},
   "outputs": [],
   "source": [
    "# from collections import Counter\n",
    "# print(\"Before SMOTE: \", Counter(y_train))\n",
    "# print(\"After SMOTE: \", Counter(y_train_smote))"
   ]
  },
  {
   "cell_type": "code",
   "execution_count": 27,
   "id": "driving-azerbaijan",
   "metadata": {},
   "outputs": [],
   "source": [
    "# model.fit(X_train_smote, y_train_smote.values.reshape(-1))\n",
    "# y_predict = model.predict(X_test)\n",
    "# print(accuracy_score(y_test,y_predict))\n",
    "# pd.crosstab(y_test,y_predict)"
   ]
  },
  {
   "cell_type": "code",
   "execution_count": 28,
   "id": "enabling-glenn",
   "metadata": {},
   "outputs": [],
   "source": [
    "# print(965 / (965+239))\n",
    "# print(38 / (38+30))"
   ]
  },
  {
   "cell_type": "code",
   "execution_count": 29,
   "id": "exotic-swift",
   "metadata": {},
   "outputs": [],
   "source": [
    "# # Classifier - LogisticRegression\n",
    "# classifier = LogisticRegression(solver='liblinear', penalty='l2', C=.00005)\n",
    "# classifier = classifier.fit(X=X_train_smote)"
   ]
  },
  {
   "cell_type": "code",
   "execution_count": null,
   "id": "round-going",
   "metadata": {},
   "outputs": [],
   "source": []
  }
 ],
 "metadata": {
  "kernelspec": {
   "display_name": "Python 3",
   "language": "python",
   "name": "python3"
  },
  "language_info": {
   "codemirror_mode": {
    "name": "ipython",
    "version": 3
   },
   "file_extension": ".py",
   "mimetype": "text/x-python",
   "name": "python",
   "nbconvert_exporter": "python",
   "pygments_lexer": "ipython3",
   "version": "3.6.12"
  }
 },
 "nbformat": 4,
 "nbformat_minor": 5
}
